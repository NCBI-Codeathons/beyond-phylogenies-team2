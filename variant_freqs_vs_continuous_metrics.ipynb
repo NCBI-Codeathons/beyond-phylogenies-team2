{
 "cells": [
  {
   "cell_type": "code",
   "execution_count": 44,
   "id": "979ead14",
   "metadata": {},
   "outputs": [],
   "source": [
    "import pandas as pd\n",
    "import numpy as np\n",
    "from matplotlib import pyplot as plt\n",
    "%matplotlib inline\n",
    "import seaborn as sns\n",
    "\n",
    "sns.set(style='whitegrid', font_scale=1.4, palette='Set2')"
   ]
  },
  {
   "cell_type": "code",
   "execution_count": 45,
   "id": "372a97e6",
   "metadata": {},
   "outputs": [],
   "source": [
    "variants_df = pd.read_csv('data/transformed_clades.csv',header=0)\n",
    "variants_df['total_sequences'] = variants_df.iloc[:,[1,2,3]].sum(axis=1)\n",
    "for col in list(variants_df):\n",
    "    if col != 'week' and col != 'total_sequences':\n",
    "        col_name = 'proportion_' + col\n",
    "        variants_df[col_name] = variants_df[col] / variants_df['total_sequences']\n",
    "variants_df.head(20)\n",
    "variants_df.fillna(0, inplace=True)\n"
   ]
  },
  {
   "cell_type": "code",
   "execution_count": 46,
   "id": "fac2a528",
   "metadata": {},
   "outputs": [],
   "source": [
    "tests_df = pd.read_csv('data/percent_positivities.csv', header=0)\n",
    "percent_positivity = tests_df[['rate(positive_test)', 'week']]"
   ]
  },
  {
   "cell_type": "code",
   "execution_count": 47,
   "id": "d996cd85",
   "metadata": {},
   "outputs": [],
   "source": [
    "combined_df = variants_df.merge(percent_positivity, on='week')\n",
    "proportion_variants_cols = [c for c in combined_df.columns.values if 'proportion' in c] "
   ]
  },
  {
   "cell_type": "code",
   "execution_count": 48,
   "id": "c775df4a",
   "metadata": {},
   "outputs": [
    {
     "data": {
      "text/html": [
       "<div>\n",
       "<style scoped>\n",
       "    .dataframe tbody tr th:only-of-type {\n",
       "        vertical-align: middle;\n",
       "    }\n",
       "\n",
       "    .dataframe tbody tr th {\n",
       "        vertical-align: top;\n",
       "    }\n",
       "\n",
       "    .dataframe thead th {\n",
       "        text-align: right;\n",
       "    }\n",
       "</style>\n",
       "<table border=\"1\" class=\"dataframe\">\n",
       "  <thead>\n",
       "    <tr style=\"text-align: right;\">\n",
       "      <th></th>\n",
       "      <th>week</th>\n",
       "      <th>Omicron</th>\n",
       "      <th>recombinant</th>\n",
       "      <th>Delta</th>\n",
       "      <th>total_sequences</th>\n",
       "      <th>proportion_Omicron</th>\n",
       "      <th>proportion_recombinant</th>\n",
       "      <th>proportion_Delta</th>\n",
       "      <th>rate(positive_test)</th>\n",
       "    </tr>\n",
       "  </thead>\n",
       "  <tbody>\n",
       "    <tr>\n",
       "      <th>0</th>\n",
       "      <td>1</td>\n",
       "      <td>4029</td>\n",
       "      <td>2</td>\n",
       "      <td>78</td>\n",
       "      <td>4109</td>\n",
       "      <td>0.980531</td>\n",
       "      <td>0.000487</td>\n",
       "      <td>0.018983</td>\n",
       "      <td>0.275581</td>\n",
       "    </tr>\n",
       "    <tr>\n",
       "      <th>1</th>\n",
       "      <td>2</td>\n",
       "      <td>2281</td>\n",
       "      <td>0</td>\n",
       "      <td>19</td>\n",
       "      <td>2300</td>\n",
       "      <td>0.991739</td>\n",
       "      <td>0.000000</td>\n",
       "      <td>0.008261</td>\n",
       "      <td>0.272493</td>\n",
       "    </tr>\n",
       "    <tr>\n",
       "      <th>2</th>\n",
       "      <td>3</td>\n",
       "      <td>1821</td>\n",
       "      <td>0</td>\n",
       "      <td>13</td>\n",
       "      <td>1834</td>\n",
       "      <td>0.992912</td>\n",
       "      <td>0.000000</td>\n",
       "      <td>0.007088</td>\n",
       "      <td>0.259926</td>\n",
       "    </tr>\n",
       "    <tr>\n",
       "      <th>3</th>\n",
       "      <td>4</td>\n",
       "      <td>919</td>\n",
       "      <td>0</td>\n",
       "      <td>8</td>\n",
       "      <td>927</td>\n",
       "      <td>0.991370</td>\n",
       "      <td>0.000000</td>\n",
       "      <td>0.008630</td>\n",
       "      <td>0.206220</td>\n",
       "    </tr>\n",
       "    <tr>\n",
       "      <th>4</th>\n",
       "      <td>5</td>\n",
       "      <td>503</td>\n",
       "      <td>0</td>\n",
       "      <td>1</td>\n",
       "      <td>504</td>\n",
       "      <td>0.998016</td>\n",
       "      <td>0.000000</td>\n",
       "      <td>0.001984</td>\n",
       "      <td>0.137049</td>\n",
       "    </tr>\n",
       "  </tbody>\n",
       "</table>\n",
       "</div>"
      ],
      "text/plain": [
       "   week  Omicron  recombinant  Delta  total_sequences  proportion_Omicron  \\\n",
       "0     1     4029            2     78             4109            0.980531   \n",
       "1     2     2281            0     19             2300            0.991739   \n",
       "2     3     1821            0     13             1834            0.992912   \n",
       "3     4      919            0      8              927            0.991370   \n",
       "4     5      503            0      1              504            0.998016   \n",
       "\n",
       "   proportion_recombinant  proportion_Delta  rate(positive_test)  \n",
       "0                0.000487          0.018983             0.275581  \n",
       "1                0.000000          0.008261             0.272493  \n",
       "2                0.000000          0.007088             0.259926  \n",
       "3                0.000000          0.008630             0.206220  \n",
       "4                0.000000          0.001984             0.137049  "
      ]
     },
     "execution_count": 48,
     "metadata": {},
     "output_type": "execute_result"
    }
   ],
   "source": [
    "combined_df.head()"
   ]
  },
  {
   "cell_type": "code",
   "execution_count": 49,
   "id": "4fe0b82c",
   "metadata": {},
   "outputs": [],
   "source": [
    "positive_variant_frac_df = combined_df[proportion_variants_cols].apply(lambda x: x*combined_df['rate(positive_test)'])\n",
    "positive_variant_frac_df['week'] = combined_df['week']"
   ]
  },
  {
   "cell_type": "code",
   "execution_count": 50,
   "id": "80110218",
   "metadata": {},
   "outputs": [],
   "source": [
    "week = positive_variant_frac_df['week']\n",
    "variants_dict = {}\n",
    "for col in list(positive_variant_frac_df):\n",
    "    if 'proportion' in col:\n",
    "        variants_dict[col] = positive_variant_frac_df[col].tolist()"
   ]
  },
  {
   "cell_type": "code",
   "execution_count": 51,
   "id": "4bed0d26",
   "metadata": {
    "scrolled": true
   },
   "outputs": [
    {
     "data": {
      "image/png": "[encoded data removed]",
      "text/plain": [
       "<Figure size 432x288 with 1 Axes>"
      ]
     },
     "metadata": {},
     "output_type": "display_data"
    }
   ],
   "source": [
    "fig, ax = plt.subplots(figsize=(6,4))\n",
    "## feed in binned dates (weekly) in place of 'year'\n",
    "ax.stackplot(week, variants_dict.values(),\n",
    "             labels=variants_dict.keys(), alpha=0.8)\n",
    "ax.legend(loc='upper left')\n",
    "ax.set_title('Variant frequency vs test positivity over time')\n",
    "ax.set_ylabel('Test positivity (%)')\n",
    "\n",
    "ax.set_xlim(1, 25)\n",
    "plt.show()"
   ]
  },
  {
   "cell_type": "code",
   "execution_count": null,
   "id": "00c16005",
   "metadata": {},
   "outputs": [],
   "source": []
  },
  {
   "cell_type": "code",
   "execution_count": null,
   "id": "b3b7259f",
   "metadata": {},
   "outputs": [],
   "source": []
  }
 ],
 "metadata": {
  "kernelspec": {
   "display_name": "Python 3",
   "language": "python",
   "name": "python3"
  },
  "language_info": {
   "codemirror_mode": {
    "name": "ipython",
    "version": 3
   },
   "file_extension": ".py",
   "mimetype": "text/x-python",
   "name": "python",
   "nbconvert_exporter": "python",
   "pygments_lexer": "ipython3",
   "version": "3.8.8"
  }
 },
 "nbformat": 4,
 "nbformat_minor": 5
}
